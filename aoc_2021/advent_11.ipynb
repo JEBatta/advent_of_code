{
  "nbformat": 4,
  "nbformat_minor": 0,
  "metadata": {
    "colab": {
      "name": "advent_11.ipynb",
      "provenance": [],
      "collapsed_sections": []
    },
    "kernelspec": {
      "name": "python3",
      "display_name": "Python 3"
    },
    "language_info": {
      "name": "python"
    }
  },
  "cells": [
    {
      "cell_type": "code",
      "execution_count": 137,
      "metadata": {
        "id": "zGiAyirzxC0j"
      },
      "outputs": [],
      "source": [
        "import pandas as pd\n",
        "import numpy as np\n",
        "\n",
        "data = pd.read_table('sample_data/input_11.txt',header = None)"
      ]
    },
    {
      "cell_type": "code",
      "source": [
        "def time_step():\n",
        "  for i in range(m):\n",
        "    for j in range(n):\n",
        "      mat_dat[i,j] =  mat_dat[i,j] + 1\n",
        "\n",
        "def flash(x,y):\n",
        "  neighbors = []\n",
        "  has_flashed[x][y] = 1\n",
        "  mat_dat[x,y] = 0\n",
        "  if x > 0:\n",
        "    neighbors.append([x-1,y])\n",
        "    if y > 0:\n",
        "      neighbors.append([x-1,y-1])\n",
        "      neighbors.append([x,y-1])\n",
        "    if y < (m-1):\n",
        "      neighbors.append([x-1,y+1])\n",
        "      neighbors.append([x,y+1])\n",
        "  if x < (n-1):\n",
        "    neighbors.append([x+1,y])\n",
        "    if y > 0:\n",
        "      neighbors.append([x+1,y-1])\n",
        "      neighbors.append([x,y-1])\n",
        "    if y < (m-1):\n",
        "      neighbors.append([x+1,y+1])\n",
        "      neighbors.append([x,y+1])\n",
        "  neighbors_res = []\n",
        "  for p in neighbors:\n",
        "    if p not in neighbors_res:\n",
        "      neighbors_res.append(p)\n",
        "      if has_flashed[p[0]][p[1]]== 0:\n",
        "        mat_dat[p[0],p[1]] = mat_dat[p[0],p[1]] + 1\n",
        "\n",
        "\n",
        "\n",
        "  \n"
      ],
      "metadata": {
        "id": "BsEwS7Ls0ChN"
      },
      "execution_count": 138,
      "outputs": []
    },
    {
      "cell_type": "code",
      "source": [
        "data_int = []\n",
        "n = data.shape[0]\n",
        "for i in range(n):\n",
        "  data_int.append([int(x) for x in str(data[0][i])])\n",
        "\n",
        "mat_dat = np.array(data_int)\n",
        "m = mat_dat.shape[1]"
      ],
      "metadata": {
        "id": "wpJbxEiCysti"
      },
      "execution_count": 139,
      "outputs": []
    },
    {
      "cell_type": "code",
      "source": [
        "total = 0\n",
        "tt = 100\n",
        "for t in range(tt):\n",
        "  time_step()\n",
        "  has_flashed = np.zeros(mat_dat.shape)\n",
        "  while np.any(mat_dat > 9):\n",
        "    list_9 = np.where(mat_dat > 9)\n",
        "    for i in range(len(list_9[0])):\n",
        "      x = list_9[0][i] \n",
        "      y = list_9[1][i] \n",
        "      flash(x,y)\n",
        "  total = total + sum(sum(mat_dat == 0))\n",
        "\n",
        "print(mat_dat)    \n",
        "total"
      ],
      "metadata": {
        "colab": {
          "base_uri": "https://localhost:8080/"
        },
        "id": "SFPB0VcA5-E4",
        "outputId": "c532b438-fad4-4b75-be08-3803e46f8015"
      },
      "execution_count": 140,
      "outputs": [
        {
          "output_type": "stream",
          "name": "stdout",
          "text": [
            "[[8 7 3 1 1 1 1 5 4 4]\n",
            " [7 2 3 5 1 1 8 5 4 4]\n",
            " [2 2 2 3 4 4 8 5 5 5]\n",
            " [2 2 2 2 2 2 2 7 7 1]\n",
            " [2 2 2 2 2 2 2 8 9 1]\n",
            " [2 2 2 2 2 2 2 3 4 8]\n",
            " [6 2 2 2 2 2 2 3 1 5]\n",
            " [4 5 6 6 6 6 6 6 5 4]\n",
            " [4 4 3 3 3 3 3 3 3 3]\n",
            " [0 4 3 3 3 3 3 3 3 3]]\n"
          ]
        },
        {
          "output_type": "execute_result",
          "data": {
            "text/plain": [
              "1691"
            ]
          },
          "metadata": {},
          "execution_count": 140
        }
      ]
    },
    {
      "cell_type": "code",
      "source": [
        "# part 2\n",
        "\n",
        "data_int = []\n",
        "n = data.shape[0]\n",
        "for i in range(n):\n",
        "  data_int.append([int(x) for x in str(data[0][i])])\n",
        "\n",
        "mat_dat = np.array(data_int)\n",
        "m = mat_dat.shape[1]\n",
        "\n",
        "other_timestep = True\n",
        "t = 0\n",
        "while other_timestep:\n",
        "  time_step()\n",
        "  t = t + 1\n",
        "  has_flashed = np.zeros(mat_dat.shape)\n",
        "  while np.any(mat_dat > 9):\n",
        "    list_9 = np.where(mat_dat > 9)\n",
        "    for i in range(len(list_9[0])):\n",
        "      x = list_9[0][i] \n",
        "      y = list_9[1][i] \n",
        "      flash(x,y)\n",
        "  n_flashing = sum(sum(mat_dat == 0))\n",
        "  if n_flashing == mat_dat.shape[0] * mat_dat.shape[1]:\n",
        "    other_timestep = False\n",
        "print(mat_dat)    \n",
        "t\n"
      ],
      "metadata": {
        "colab": {
          "base_uri": "https://localhost:8080/"
        },
        "id": "qm3YMTOre4d7",
        "outputId": "a8962c0b-33e1-43db-a4fc-df5c18d311a0"
      },
      "execution_count": 145,
      "outputs": [
        {
          "output_type": "stream",
          "name": "stdout",
          "text": [
            "[[0 0 0 0 0 0 0 0 0 0]\n",
            " [0 0 0 0 0 0 0 0 0 0]\n",
            " [0 0 0 0 0 0 0 0 0 0]\n",
            " [0 0 0 0 0 0 0 0 0 0]\n",
            " [0 0 0 0 0 0 0 0 0 0]\n",
            " [0 0 0 0 0 0 0 0 0 0]\n",
            " [0 0 0 0 0 0 0 0 0 0]\n",
            " [0 0 0 0 0 0 0 0 0 0]\n",
            " [0 0 0 0 0 0 0 0 0 0]\n",
            " [0 0 0 0 0 0 0 0 0 0]]\n"
          ]
        },
        {
          "output_type": "execute_result",
          "data": {
            "text/plain": [
              "216"
            ]
          },
          "metadata": {},
          "execution_count": 145
        }
      ]
    },
    {
      "cell_type": "code",
      "source": [
        ""
      ],
      "metadata": {
        "colab": {
          "base_uri": "https://localhost:8080/"
        },
        "id": "pG5Zzgurf8vm",
        "outputId": "ccb5269f-6546-4ba7-b064-0774ded04c51"
      },
      "execution_count": 142,
      "outputs": [
        {
          "output_type": "execute_result",
          "data": {
            "text/plain": [
              "100"
            ]
          },
          "metadata": {},
          "execution_count": 142
        }
      ]
    }
  ]
}