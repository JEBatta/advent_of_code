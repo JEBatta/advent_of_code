{
  "nbformat": 4,
  "nbformat_minor": 0,
  "metadata": {
    "colab": {
      "name": "advent_10.ipynb",
      "provenance": [],
      "collapsed_sections": []
    },
    "kernelspec": {
      "name": "python3",
      "display_name": "Python 3"
    },
    "language_info": {
      "name": "python"
    }
  },
  "cells": [
    {
      "cell_type": "code",
      "execution_count": null,
      "metadata": {
        "id": "p9sF9p19p16L"
      },
      "outputs": [],
      "source": [
        "import pandas as pd\n",
        "import numpy as np\n",
        "import matplotlib.pyplot as plt\n",
        "\n",
        "data = pd.read_table('sample_data/input_10.txt',header = None)\n",
        "n = data.shape[0]"
      ]
    },
    {
      "cell_type": "code",
      "source": [
        "# part 1\n",
        "\n",
        "open_symbols = ['(','[','{','<']\n",
        "close_symbols = [')',']','}','>']\n",
        "\n",
        "open_close_rel = {\n",
        "    \")\": \"(\",\n",
        "    \"]\": \"[\",\n",
        "    \"}\": \"{\",\n",
        "    \">\": \"<\"\n",
        "}\n",
        "\n",
        "penalties = {\n",
        "    \")\": 3,\n",
        "    \"]\": 57,\n",
        "    \"}\": 1197,\n",
        "    \">\": 25137\n",
        "}\n",
        "total = 0\n",
        "for i in range(n):\n",
        "  line = [x for x in data[0][i]]\n",
        "  pile = []\n",
        "  for ch in line:\n",
        "    if ch in open_symbols:\n",
        "      pile.append(ch)\n",
        "    elif pile[-1] == open_close_rel[ch]:\n",
        "      pile.pop()\n",
        "    else:\n",
        "      total = total + penalties[ch]\n",
        "      break\n",
        "\n",
        "\n",
        "total\n",
        "\n",
        "  \n"
      ],
      "metadata": {
        "colab": {
          "base_uri": "https://localhost:8080/"
        },
        "id": "9LHFb-1WqATP",
        "outputId": "a9d87671-2180-410c-baf4-c2e8d1479e64"
      },
      "execution_count": 49,
      "outputs": [
        {
          "output_type": "execute_result",
          "data": {
            "text/plain": [
              "462693"
            ]
          },
          "metadata": {},
          "execution_count": 49
        }
      ]
    },
    {
      "cell_type": "code",
      "source": [
        "# part 2\n",
        "open_symbols = ['(','[','{','<']\n",
        "close_symbols = [')',']','}','>']\n",
        "\n",
        "open_close_rel = {\n",
        "    \")\": \"(\",\n",
        "    \"]\": \"[\",\n",
        "    \"}\": \"{\",\n",
        "    \">\": \"<\"\n",
        "}\n",
        "\n",
        "sym_scores = {\n",
        "    \"(\": 1,\n",
        "    \"[\": 2,\n",
        "    \"{\": 3,\n",
        "    \"<\": 4\n",
        "}\n",
        "\n",
        "scores = []\n",
        "for i in range(n):\n",
        "  corrupted = False\n",
        "  line = [x for x in data[0][i]]\n",
        "  pile = []\n",
        "  for ch in line:\n",
        "    if ch in open_symbols:\n",
        "      pile.append(ch)\n",
        "    elif pile[-1] == open_close_rel[ch]:\n",
        "      pile.pop()\n",
        "    else:\n",
        "      corrupted = True\n",
        "      break\n",
        "  if not corrupted:\n",
        "    line_score = 0\n",
        "    while len(pile) > 0:\n",
        "      ch = pile.pop()\n",
        "      line_score = line_score * 5 + sym_scores[ch]\n",
        "    scores.append(line_score)\n",
        "\n",
        "\n"
      ],
      "metadata": {
        "id": "TVaV7-tuIQZg"
      },
      "execution_count": 75,
      "outputs": []
    },
    {
      "cell_type": "code",
      "source": [
        "scores.sort()\n",
        "len(scores)"
      ],
      "metadata": {
        "colab": {
          "base_uri": "https://localhost:8080/"
        },
        "id": "w4HOr7mJMFvX",
        "outputId": "4e07485b-5bf8-4593-bf96-33eec30f1e63"
      },
      "execution_count": 76,
      "outputs": [
        {
          "output_type": "execute_result",
          "data": {
            "text/plain": [
              "45"
            ]
          },
          "metadata": {},
          "execution_count": 76
        }
      ]
    },
    {
      "cell_type": "code",
      "source": [
        "scores[22]"
      ],
      "metadata": {
        "colab": {
          "base_uri": "https://localhost:8080/"
        },
        "id": "ePCTx7OzANJp",
        "outputId": "46152dbf-97fb-4f42-ff18-90e9610e9132"
      },
      "execution_count": 77,
      "outputs": [
        {
          "output_type": "execute_result",
          "data": {
            "text/plain": [
              "3094671161"
            ]
          },
          "metadata": {},
          "execution_count": 77
        }
      ]
    }
  ]
}